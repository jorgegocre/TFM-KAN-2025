{
 "cells": [
  {
   "cell_type": "code",
   "execution_count": 1,
   "metadata": {
    "collapsed": true,
    "jupyter": {
     "outputs_hidden": true
    }
   },
   "outputs": [
    {
     "name": "stdout",
     "output_type": "stream",
     "text": [
      "Requirement already satisfied: coxkan in c:\\users\\jorge\\anaconda3\\envs\\kan\\lib\\site-packages (0.0.2)\n",
      "Requirement already satisfied: pykan==0.0.2 in c:\\users\\jorge\\anaconda3\\envs\\kan\\lib\\site-packages (from coxkan) (0.0.2)\n",
      "Requirement already satisfied: lifelines>=0.28.0 in c:\\users\\jorge\\anaconda3\\envs\\kan\\lib\\site-packages (from coxkan) (0.30.0)\n",
      "Requirement already satisfied: torch>=2.3.1 in c:\\users\\jorge\\anaconda3\\envs\\kan\\lib\\site-packages (from coxkan) (2.7.0+cu128)\n",
      "Requirement already satisfied: tqdm in c:\\users\\jorge\\anaconda3\\envs\\kan\\lib\\site-packages (from coxkan) (4.66.2)\n",
      "Requirement already satisfied: optuna>=3.6.1 in c:\\users\\jorge\\anaconda3\\envs\\kan\\lib\\site-packages (from coxkan) (4.4.0)\n",
      "Requirement already satisfied: torchtuples==0.2.2 in c:\\users\\jorge\\anaconda3\\envs\\kan\\lib\\site-packages (from coxkan) (0.2.2)\n",
      "Requirement already satisfied: scikit-learn>=1.5.0 in c:\\users\\jorge\\anaconda3\\envs\\kan\\lib\\site-packages (from coxkan) (1.7.0)\n",
      "Requirement already satisfied: feather-format>=0.4.0 in c:\\users\\jorge\\anaconda3\\envs\\kan\\lib\\site-packages (from coxkan) (0.4.1)\n",
      "Requirement already satisfied: h5py>=2.9.0 in c:\\users\\jorge\\anaconda3\\envs\\kan\\lib\\site-packages (from coxkan) (3.14.0)\n",
      "Requirement already satisfied: numba>=0.44 in c:\\users\\jorge\\anaconda3\\envs\\kan\\lib\\site-packages (from coxkan) (0.61.2)\n",
      "Requirement already satisfied: requests>=2.22.0 in c:\\users\\jorge\\anaconda3\\envs\\kan\\lib\\site-packages (from coxkan) (2.32.3)\n",
      "Requirement already satisfied: py7zr>=0.11.3 in c:\\users\\jorge\\anaconda3\\envs\\kan\\lib\\site-packages (from coxkan) (1.0.0)\n",
      "Requirement already satisfied: scipy>=1.13.1 in c:\\users\\jorge\\anaconda3\\envs\\kan\\lib\\site-packages (from coxkan) (1.15.2)\n",
      "Requirement already satisfied: numpy>=1.15.4 in c:\\users\\jorge\\anaconda3\\envs\\kan\\lib\\site-packages (from torchtuples==0.2.2->coxkan) (1.26.4)\n",
      "Requirement already satisfied: pandas>=0.24.2 in c:\\users\\jorge\\anaconda3\\envs\\kan\\lib\\site-packages (from torchtuples==0.2.2->coxkan) (2.1.4)\n",
      "Requirement already satisfied: matplotlib>=3.0.3 in c:\\users\\jorge\\anaconda3\\envs\\kan\\lib\\site-packages (from torchtuples==0.2.2->coxkan) (3.6.2)\n",
      "Requirement already satisfied: pyarrow>=0.4.0 in c:\\users\\jorge\\anaconda3\\envs\\kan\\lib\\site-packages (from feather-format>=0.4.0->coxkan) (20.0.0)\n",
      "Requirement already satisfied: autograd>=1.5 in c:\\users\\jorge\\anaconda3\\envs\\kan\\lib\\site-packages (from lifelines>=0.28.0->coxkan) (1.8.0)\n",
      "Requirement already satisfied: autograd-gamma>=0.3 in c:\\users\\jorge\\anaconda3\\envs\\kan\\lib\\site-packages (from lifelines>=0.28.0->coxkan) (0.5.0)\n",
      "Requirement already satisfied: formulaic>=0.2.2 in c:\\users\\jorge\\anaconda3\\envs\\kan\\lib\\site-packages (from lifelines>=0.28.0->coxkan) (1.1.1)\n",
      "Requirement already satisfied: llvmlite<0.45,>=0.44.0dev0 in c:\\users\\jorge\\anaconda3\\envs\\kan\\lib\\site-packages (from numba>=0.44->coxkan) (0.44.0)\n",
      "Requirement already satisfied: alembic>=1.5.0 in c:\\users\\jorge\\anaconda3\\envs\\kan\\lib\\site-packages (from optuna>=3.6.1->coxkan) (1.16.2)\n",
      "Requirement already satisfied: colorlog in c:\\users\\jorge\\anaconda3\\envs\\kan\\lib\\site-packages (from optuna>=3.6.1->coxkan) (6.9.0)\n",
      "Requirement already satisfied: packaging>=20.0 in c:\\users\\jorge\\anaconda3\\envs\\kan\\lib\\site-packages (from optuna>=3.6.1->coxkan) (24.2)\n",
      "Requirement already satisfied: sqlalchemy>=1.4.2 in c:\\users\\jorge\\anaconda3\\envs\\kan\\lib\\site-packages (from optuna>=3.6.1->coxkan) (2.0.41)\n",
      "Requirement already satisfied: PyYAML in c:\\users\\jorge\\anaconda3\\envs\\kan\\lib\\site-packages (from optuna>=3.6.1->coxkan) (6.0.2)\n",
      "Requirement already satisfied: texttable in c:\\users\\jorge\\anaconda3\\envs\\kan\\lib\\site-packages (from py7zr>=0.11.3->coxkan) (1.7.0)\n",
      "Requirement already satisfied: pycryptodomex>=3.20.0 in c:\\users\\jorge\\anaconda3\\envs\\kan\\lib\\site-packages (from py7zr>=0.11.3->coxkan) (3.23.0)\n",
      "Requirement already satisfied: brotli>=1.1.0 in c:\\users\\jorge\\anaconda3\\envs\\kan\\lib\\site-packages (from py7zr>=0.11.3->coxkan) (1.1.0)\n",
      "Requirement already satisfied: psutil in c:\\users\\jorge\\anaconda3\\envs\\kan\\lib\\site-packages (from py7zr>=0.11.3->coxkan) (5.9.0)\n",
      "Requirement already satisfied: pyzstd>=0.16.1 in c:\\users\\jorge\\anaconda3\\envs\\kan\\lib\\site-packages (from py7zr>=0.11.3->coxkan) (0.17.0)\n",
      "Requirement already satisfied: pyppmd<1.3.0,>=1.1.0 in c:\\users\\jorge\\anaconda3\\envs\\kan\\lib\\site-packages (from py7zr>=0.11.3->coxkan) (1.2.0)\n",
      "Requirement already satisfied: pybcj<1.1.0,>=1.0.0 in c:\\users\\jorge\\anaconda3\\envs\\kan\\lib\\site-packages (from py7zr>=0.11.3->coxkan) (1.0.6)\n",
      "Requirement already satisfied: multivolumefile>=0.2.3 in c:\\users\\jorge\\anaconda3\\envs\\kan\\lib\\site-packages (from py7zr>=0.11.3->coxkan) (0.2.3)\n",
      "Requirement already satisfied: inflate64<1.1.0,>=1.0.0 in c:\\users\\jorge\\anaconda3\\envs\\kan\\lib\\site-packages (from py7zr>=0.11.3->coxkan) (1.0.3)\n",
      "Requirement already satisfied: charset-normalizer<4,>=2 in c:\\users\\jorge\\anaconda3\\envs\\kan\\lib\\site-packages (from requests>=2.22.0->coxkan) (3.3.2)\n",
      "Requirement already satisfied: idna<4,>=2.5 in c:\\users\\jorge\\anaconda3\\envs\\kan\\lib\\site-packages (from requests>=2.22.0->coxkan) (3.7)\n",
      "Requirement already satisfied: urllib3<3,>=1.21.1 in c:\\users\\jorge\\anaconda3\\envs\\kan\\lib\\site-packages (from requests>=2.22.0->coxkan) (2.3.0)\n",
      "Requirement already satisfied: certifi>=2017.4.17 in c:\\users\\jorge\\anaconda3\\envs\\kan\\lib\\site-packages (from requests>=2.22.0->coxkan) (2025.4.26)\n",
      "Requirement already satisfied: joblib>=1.2.0 in c:\\users\\jorge\\anaconda3\\envs\\kan\\lib\\site-packages (from scikit-learn>=1.5.0->coxkan) (1.4.2)\n",
      "Requirement already satisfied: threadpoolctl>=3.1.0 in c:\\users\\jorge\\anaconda3\\envs\\kan\\lib\\site-packages (from scikit-learn>=1.5.0->coxkan) (3.6.0)\n",
      "Requirement already satisfied: filelock in c:\\users\\jorge\\anaconda3\\envs\\kan\\lib\\site-packages (from torch>=2.3.1->coxkan) (3.13.1)\n",
      "Requirement already satisfied: typing-extensions>=4.10.0 in c:\\users\\jorge\\anaconda3\\envs\\kan\\lib\\site-packages (from torch>=2.3.1->coxkan) (4.14.0)\n",
      "Requirement already satisfied: sympy>=1.13.3 in c:\\users\\jorge\\anaconda3\\envs\\kan\\lib\\site-packages (from torch>=2.3.1->coxkan) (1.13.3)\n",
      "Requirement already satisfied: networkx in c:\\users\\jorge\\anaconda3\\envs\\kan\\lib\\site-packages (from torch>=2.3.1->coxkan) (3.3)\n",
      "Requirement already satisfied: jinja2 in c:\\users\\jorge\\anaconda3\\envs\\kan\\lib\\site-packages (from torch>=2.3.1->coxkan) (3.1.4)\n",
      "Requirement already satisfied: fsspec in c:\\users\\jorge\\anaconda3\\envs\\kan\\lib\\site-packages (from torch>=2.3.1->coxkan) (2024.6.1)\n",
      "Requirement already satisfied: colorama in c:\\users\\jorge\\anaconda3\\envs\\kan\\lib\\site-packages (from tqdm->coxkan) (0.4.6)\n",
      "Requirement already satisfied: Mako in c:\\users\\jorge\\anaconda3\\envs\\kan\\lib\\site-packages (from alembic>=1.5.0->optuna>=3.6.1->coxkan) (1.3.10)\n",
      "Requirement already satisfied: tomli in c:\\users\\jorge\\anaconda3\\envs\\kan\\lib\\site-packages (from alembic>=1.5.0->optuna>=3.6.1->coxkan) (2.0.1)\n",
      "Requirement already satisfied: interface-meta>=1.2.0 in c:\\users\\jorge\\anaconda3\\envs\\kan\\lib\\site-packages (from formulaic>=0.2.2->lifelines>=0.28.0->coxkan) (1.3.0)\n",
      "Requirement already satisfied: wrapt>=1.0 in c:\\users\\jorge\\anaconda3\\envs\\kan\\lib\\site-packages (from formulaic>=0.2.2->lifelines>=0.28.0->coxkan) (1.17.2)\n",
      "Requirement already satisfied: contourpy>=1.0.1 in c:\\users\\jorge\\anaconda3\\envs\\kan\\lib\\site-packages (from matplotlib>=3.0.3->torchtuples==0.2.2->coxkan) (1.3.2)\n",
      "Requirement already satisfied: cycler>=0.10 in c:\\users\\jorge\\anaconda3\\envs\\kan\\lib\\site-packages (from matplotlib>=3.0.3->torchtuples==0.2.2->coxkan) (0.12.1)\n",
      "Requirement already satisfied: fonttools>=4.22.0 in c:\\users\\jorge\\anaconda3\\envs\\kan\\lib\\site-packages (from matplotlib>=3.0.3->torchtuples==0.2.2->coxkan) (4.57.0)\n",
      "Requirement already satisfied: kiwisolver>=1.0.1 in c:\\users\\jorge\\anaconda3\\envs\\kan\\lib\\site-packages (from matplotlib>=3.0.3->torchtuples==0.2.2->coxkan) (1.4.8)\n",
      "Requirement already satisfied: pillow>=6.2.0 in c:\\users\\jorge\\anaconda3\\envs\\kan\\lib\\site-packages (from matplotlib>=3.0.3->torchtuples==0.2.2->coxkan) (11.0.0)\n",
      "Requirement already satisfied: pyparsing>=2.2.1 in c:\\users\\jorge\\anaconda3\\envs\\kan\\lib\\site-packages (from matplotlib>=3.0.3->torchtuples==0.2.2->coxkan) (3.2.3)\n",
      "Requirement already satisfied: python-dateutil>=2.7 in c:\\users\\jorge\\anaconda3\\envs\\kan\\lib\\site-packages (from matplotlib>=3.0.3->torchtuples==0.2.2->coxkan) (2.9.0.post0)\n",
      "Requirement already satisfied: pytz>=2020.1 in c:\\users\\jorge\\anaconda3\\envs\\kan\\lib\\site-packages (from pandas>=0.24.2->torchtuples==0.2.2->coxkan) (2024.1)\n",
      "Requirement already satisfied: tzdata>=2022.1 in c:\\users\\jorge\\anaconda3\\envs\\kan\\lib\\site-packages (from pandas>=0.24.2->torchtuples==0.2.2->coxkan) (2023.3)\n",
      "Requirement already satisfied: greenlet>=1 in c:\\users\\jorge\\anaconda3\\envs\\kan\\lib\\site-packages (from sqlalchemy>=1.4.2->optuna>=3.6.1->coxkan) (3.2.3)\n",
      "Requirement already satisfied: mpmath<1.4,>=1.1.0 in c:\\users\\jorge\\anaconda3\\envs\\kan\\lib\\site-packages (from sympy>=1.13.3->torch>=2.3.1->coxkan) (1.3.0)\n",
      "Requirement already satisfied: MarkupSafe>=2.0 in c:\\users\\jorge\\anaconda3\\envs\\kan\\lib\\site-packages (from jinja2->torch>=2.3.1->coxkan) (2.1.5)\n",
      "Requirement already satisfied: six>=1.5 in c:\\users\\jorge\\anaconda3\\envs\\kan\\lib\\site-packages (from python-dateutil>=2.7->matplotlib>=3.0.3->torchtuples==0.2.2->coxkan) (1.17.0)\n"
     ]
    }
   ],
   "source": [
    "# Install coxkan\n",
    "! pip install coxkan"
   ]
  },
  {
   "cell_type": "markdown",
   "metadata": {},
   "source": [
    "# CoxKAN Introductory Demo"
   ]
  },
  {
   "cell_type": "code",
   "execution_count": 2,
   "metadata": {},
   "outputs": [],
   "source": [
    "from coxkan import CoxKAN\n",
    "from sklearn.model_selection import train_test_split\n",
    "import numpy as np"
   ]
  },
  {
   "cell_type": "markdown",
   "metadata": {},
   "source": [
    "### Synthetic Dataset Example\n",
    "\n",
    "The code below generates a synthetic survival dataset under the hazard function\n",
    "\n",
    "$$\\text{Hazard, } h(t, \\mathbf{x}) = 0.01 e^{\\theta(\\mathbf{x})},$$\n",
    "\n",
    "where\n",
    "\n",
    "$$\\text{Log-Partial Hazard, }\\theta (\\mathbf{x}) = \\tanh (5x_1) + \\sin (2 \\pi x_2)$$\n",
    "\n",
    "and a **uniform censoring distribution**."
   ]
  },
  {
   "cell_type": "code",
   "execution_count": 3,
   "metadata": {},
   "outputs": [
    {
     "name": "stdout",
     "output_type": "stream",
     "text": [
      "Concordance index of true expression: 0.7524\n"
     ]
    },
    {
     "data": {
      "text/html": [
       "<div>\n",
       "<style scoped>\n",
       "    .dataframe tbody tr th:only-of-type {\n",
       "        vertical-align: middle;\n",
       "    }\n",
       "\n",
       "    .dataframe tbody tr th {\n",
       "        vertical-align: top;\n",
       "    }\n",
       "\n",
       "    .dataframe thead th {\n",
       "        text-align: right;\n",
       "    }\n",
       "</style>\n",
       "<table border=\"1\" class=\"dataframe\">\n",
       "  <thead>\n",
       "    <tr style=\"text-align: right;\">\n",
       "      <th></th>\n",
       "      <th>x1</th>\n",
       "      <th>x2</th>\n",
       "      <th>duration</th>\n",
       "      <th>event</th>\n",
       "    </tr>\n",
       "  </thead>\n",
       "  <tbody>\n",
       "    <tr>\n",
       "      <th>9254</th>\n",
       "      <td>0.541629</td>\n",
       "      <td>-0.706251</td>\n",
       "      <td>42.270669</td>\n",
       "      <td>1</td>\n",
       "    </tr>\n",
       "    <tr>\n",
       "      <th>1561</th>\n",
       "      <td>-0.526259</td>\n",
       "      <td>-0.492606</td>\n",
       "      <td>54.283488</td>\n",
       "      <td>1</td>\n",
       "    </tr>\n",
       "    <tr>\n",
       "      <th>1670</th>\n",
       "      <td>-0.238753</td>\n",
       "      <td>-0.326589</td>\n",
       "      <td>361.569903</td>\n",
       "      <td>1</td>\n",
       "    </tr>\n",
       "    <tr>\n",
       "      <th>6087</th>\n",
       "      <td>-0.588024</td>\n",
       "      <td>0.742029</td>\n",
       "      <td>57.335278</td>\n",
       "      <td>0</td>\n",
       "    </tr>\n",
       "    <tr>\n",
       "      <th>6669</th>\n",
       "      <td>-0.739364</td>\n",
       "      <td>-0.302907</td>\n",
       "      <td>95.975668</td>\n",
       "      <td>1</td>\n",
       "    </tr>\n",
       "  </tbody>\n",
       "</table>\n",
       "</div>"
      ],
      "text/plain": [
       "            x1        x2    duration  event\n",
       "9254  0.541629 -0.706251   42.270669      1\n",
       "1561 -0.526259 -0.492606   54.283488      1\n",
       "1670 -0.238753 -0.326589  361.569903      1\n",
       "6087 -0.588024  0.742029   57.335278      0\n",
       "6669 -0.739364 -0.302907   95.975668      1"
      ]
     },
     "execution_count": 3,
     "metadata": {},
     "output_type": "execute_result"
    }
   ],
   "source": [
    "from coxkan.datasets import create_dataset\n",
    "\n",
    "log_partial_hazard = lambda x1, x2: np.tanh(5*x1) + np.sin(2*np.pi*x2)\n",
    "\n",
    "df = create_dataset(log_partial_hazard, baseline_hazard=0.01, n_samples=10000, seed=42)\n",
    "df_train, df_test = train_test_split(df, test_size=0.2, random_state=42)\n",
    "\n",
    "df_train.head()"
   ]
  },
  {
   "cell_type": "markdown",
   "metadata": {},
   "source": [
    "### Train CoxKAN:"
   ]
  },
  {
   "cell_type": "code",
   "execution_count": 4,
   "metadata": {},
   "outputs": [
    {
     "name": "stderr",
     "output_type": "stream",
     "text": [
      "train loss: 2.77e+00 | val loss: 2.50e+00: 100%|██████████████████| 100/100 [00:51<00:00,  1.92it/s]\n"
     ]
    },
    {
     "name": "stdout",
     "output_type": "stream",
     "text": [
      "\n",
      "CoxKAN C-Index:  0.7553786667818724\n"
     ]
    },
    {
     "data": {
      "image/png": "[encoded data removed]",
      "text/plain": [
       "<Figure size 500x200 with 3 Axes>"
      ]
     },
     "metadata": {},
     "output_type": "display_data"
    }
   ],
   "source": [
    "ckan = CoxKAN(width=[2,1], grid=5, seed=42)\n",
    "\n",
    "_ = ckan.train(\n",
    "    df_train, \n",
    "    df_test, \n",
    "    duration_col='duration', \n",
    "    event_col='event',\n",
    "    opt='Adam',\n",
    "    lr=0.01,\n",
    "    steps=100)\n",
    "\n",
    "# evaluate CoxKAN\n",
    "cindex = ckan.cindex(df_test)\n",
    "print(\"\\nCoxKAN C-Index: \", cindex)\n",
    "\n",
    "# plot CoxKAN\n",
    "fig = ckan.plot()"
   ]
  },
  {
   "cell_type": "markdown",
   "metadata": {},
   "source": [
    "### Symbolic Fitting:"
   ]
  },
  {
   "cell_type": "code",
   "execution_count": 5,
   "metadata": {},
   "outputs": [
    {
     "name": "stderr",
     "output_type": "stream",
     "text": [
      "train loss: 2.77e+00 | val loss: 2.50e+00: 100%|████████████████████| 10/10 [00:12<00:00,  1.26s/it]\n"
     ]
    },
    {
     "data": {
      "text/latex": [
       "$\\displaystyle - 1.0 \\sin{\\left(6.3 x_{2} + 9.4 \\right)} + 1.0 \\tanh{\\left(4.4 x_{1} \\right)}$"
      ],
      "text/plain": [
       "-1.0*sin(6.3*x2 + 9.4) + 1.0*tanh(4.4*x1)"
      ]
     },
     "metadata": {},
     "output_type": "display_data"
    }
   ],
   "source": [
    "# auto-symbolic fitting\n",
    "_ = ckan.auto_symbolic(lib=['x^2', 'sin', 'exp', 'log', 'sqrt', 'tanh'], verbose=False)\n",
    "\n",
    "# train affine parameters\n",
    "_ = ckan.train(df_train, df_test, duration_col='duration', event_col='event', opt='LBFGS', steps=10)\n",
    "\n",
    "display(ckan.symbolic_formula(floating_digit=1)[0][0])"
   ]
  },
  {
   "cell_type": "markdown",
   "metadata": {},
   "source": [
    "### Symbolic Expression Evaluation CoxKAN:"
   ]
  },
  {
   "cell_type": "markdown",
   "metadata": {},
   "source": [
    "We see CoxKAN approximately recovers the true log-partial hazard:\n",
    "\n",
    "$\\hat{\\theta}_{KAN} = \\tanh(4.4 x_1) -\\sin(6.3 x_2 + 9.4) \\approx \\tanh(5 x_1) -\\sin(2 \\pi x_2 + 3 \\pi) = \\tanh(5 x_1)+ \\sin(2 \\pi x_2)$"
   ]
  },
  {
   "cell_type": "code",
   "execution_count": 6,
   "metadata": {},
   "outputs": [],
   "source": [
    "log_partial_hazard = lambda x1, x2: np.tanh(5*x1) + np.sin(2*np.pi*x2)\n",
    "Obtained_symbolic_expression =  lambda x1, x2: (-1.0*np.sin((6.3*x2)+9.4))+(1.0*np.tanh((4.4*x1)))"
   ]
  },
  {
   "cell_type": "code",
   "execution_count": 7,
   "metadata": {},
   "outputs": [],
   "source": [
    "check1 = []\n",
    "check2 = []\n",
    "for i in np.arange(0,2*np.pi,0.1):\n",
    "    for j in np.arange(0,2*np.pi,0.1):\n",
    "        check1.append(log_partial_hazard(i,j))\n",
    "        check2.append(Obtained_symbolic_expression(i,j))"
   ]
  },
  {
   "cell_type": "code",
   "execution_count": 8,
   "metadata": {},
   "outputs": [
    {
     "data": {
      "text/plain": [
       "0.03078551065178464"
      ]
     },
     "execution_count": 8,
     "metadata": {},
     "output_type": "execute_result"
    }
   ],
   "source": [
    "results = []\n",
    "for i in range(len(check1)):\n",
    "    results.append((check2[i] - check1[i])**2)\n",
    "\n",
    "rmse = np.sqrt((sum(results)/len(results)))\n",
    "rmse"
   ]
  },
  {
   "cell_type": "markdown",
   "metadata": {},
   "source": [
    "### Train CoxKAN:"
   ]
  },
  {
   "cell_type": "code",
   "execution_count": 9,
   "metadata": {},
   "outputs": [
    {
     "name": "stderr",
     "output_type": "stream",
     "text": [
      "train loss: 2.77e+00 | val loss: 2.50e+00: 100%|██████████████████| 100/100 [01:21<00:00,  1.23it/s]\n"
     ]
    },
    {
     "name": "stdout",
     "output_type": "stream",
     "text": [
      "\n",
      "CoxKAN C-Index:  0.7576267211425115\n"
     ]
    },
    {
     "data": {
      "image/png": "[encoded data removed]",
      "text/plain": [
       "<Figure size 500x400 with 10 Axes>"
      ]
     },
     "metadata": {},
     "output_type": "display_data"
    }
   ],
   "source": [
    "ckan = CoxKAN(width=[2,3,1], grid=5, seed=42)\n",
    "\n",
    "_ = ckan.train(\n",
    "    df_train, \n",
    "    df_test, \n",
    "    duration_col='duration', \n",
    "    event_col='event',\n",
    "    opt='Adam',\n",
    "    lr=0.01,\n",
    "    steps=100)\n",
    "\n",
    "# evaluate CoxKAN\n",
    "cindex = ckan.cindex(df_test)\n",
    "print(\"\\nCoxKAN C-Index: \", cindex)\n",
    "\n",
    "# plot CoxKAN\n",
    "fig = ckan.plot()"
   ]
  },
  {
   "cell_type": "markdown",
   "metadata": {},
   "source": [
    "### Symbolic Fitting:"
   ]
  },
  {
   "cell_type": "code",
   "execution_count": 12,
   "metadata": {},
   "outputs": [
    {
     "name": "stderr",
     "output_type": "stream",
     "text": [
      "train loss: 2.77e+00 | val loss: 2.50e+00: 100%|████████████████████| 10/10 [00:46<00:00,  4.66s/it]\n"
     ]
    },
    {
     "data": {
      "text/latex": [
       "$\\displaystyle 3.3 \\sqrt{- 0.2 \\sin{\\left(5.9 x_{2} - 3.3 \\right)} + 0.1 \\tanh{\\left(3.8 x_{1} - 0.4 \\right)} + 1} + 0.5 \\tanh{\\left(- 0.6 \\sin{\\left(6.5 x_{2} - 9.4 \\right)} + 1.5 \\tanh{\\left(3.2 x_{1} - 0.2 \\right)} + 1.6 \\right)} - 2.7 \\tanh{\\left(0.3 \\sin{\\left(6.5 x_{2} + 9.5 \\right)} - 0.3 \\tanh{\\left(5.4 x_{1} \\right)} + 0.6 \\right)}$"
      ],
      "text/plain": [
       "3.3*sqrt(-0.2*sin(5.9*x2 - 3.3) + 0.1*tanh(3.8*x1 - 0.4) + 1) + 0.5*tanh(-0.6*sin(6.5*x2 - 9.4) + 1.5*tanh(3.2*x1 - 0.2) + 1.6) - 2.7*tanh(0.3*sin(6.5*x2 + 9.5) - 0.3*tanh(5.4*x1) + 0.6)"
      ]
     },
     "metadata": {},
     "output_type": "display_data"
    }
   ],
   "source": [
    "# auto-symbolic fitting\n",
    "_ = ckan.auto_symbolic(lib=['x','x^2','x^3','x^4','sin', 'exp', 'log', 'sqrt', 'tanh'], verbose=False)\n",
    "\n",
    "# train affine parameters\n",
    "_ = ckan.train(df_train, df_test, duration_col='duration', event_col='event', opt='LBFGS', steps=10)\n",
    "\n",
    "display(ckan.symbolic_formula(floating_digit=1)[0][0])"
   ]
  },
  {
   "cell_type": "markdown",
   "metadata": {},
   "source": [
    "### Symbolic Expression Evaluation CoxKAN:"
   ]
  },
  {
   "cell_type": "markdown",
   "metadata": {},
   "source": [
    "We see CoxKAN approximately recovers the true log-partial hazard:\n",
    "\n",
    "$\\hat{\\theta}_{KAN} = \\tanh(4.4 x_1) -\\sin(6.3 x_2 + 9.4) \\approx \\tanh(5 x_1) -\\sin(2 \\pi x_2 + 3 \\pi) = \\tanh(5 x_1)+ \\sin(2 \\pi x_2)$"
   ]
  },
  {
   "cell_type": "code",
   "execution_count": 21,
   "metadata": {},
   "outputs": [],
   "source": [
    "log_partial_hazard = lambda x1, x2: np.tanh(5*x1) + np.sin(2*np.pi*x2)\n",
    "long_symbolic_expression =  lambda x1, x2: (3.3*np.sqrt((-0.2*np.sin((5.9*x2)-3.3))+(0.1*np.tanh((3.8*x1)-0.4))+1))+(0.5*np.tanh((-0.6*np.sin((6.5*x2)-9.4))+(1.5*np.tanh((3.2*x1)-0.2))+1.6))-(2.7*np.tanh(0.3*np.sin((6.4*x2)+9.5)-(0.3*np.tanh((5.4*x1)))+0.6))\n",
    "\n"
   ]
  },
  {
   "cell_type": "code",
   "execution_count": 22,
   "metadata": {},
   "outputs": [],
   "source": [
    "l1 = []\n",
    "l2 = []\n",
    "for i in np.arange(0,2*np.pi,0.1):\n",
    "    for j in np.arange(0,2*np.pi,0.1):\n",
    "        l1.append(log_partial_hazard(i,j))\n",
    "        l2.append(long_symbolic_expression(i,j))"
   ]
  },
  {
   "cell_type": "code",
   "execution_count": 23,
   "metadata": {},
   "outputs": [
    {
     "data": {
      "text/plain": [
       "3969"
      ]
     },
     "execution_count": 23,
     "metadata": {},
     "output_type": "execute_result"
    }
   ],
   "source": [
    "len(l1)"
   ]
  },
  {
   "cell_type": "code",
   "execution_count": 24,
   "metadata": {},
   "outputs": [
    {
     "data": {
      "text/plain": [
       "3969"
      ]
     },
     "execution_count": 24,
     "metadata": {},
     "output_type": "execute_result"
    }
   ],
   "source": [
    "len(l2)"
   ]
  },
  {
   "cell_type": "code",
   "execution_count": 25,
   "metadata": {},
   "outputs": [],
   "source": [
    "# Create new list of equal length for your predictions\n",
    "l3 = []"
   ]
  },
  {
   "cell_type": "code",
   "execution_count": 26,
   "metadata": {},
   "outputs": [],
   "source": [
    "for i in range(len(l1)):\n",
    "    l3.append((l2[i] - l1[i])**2)\n",
    "\n",
    "#print(l3)"
   ]
  },
  {
   "cell_type": "code",
   "execution_count": 27,
   "metadata": {},
   "outputs": [
    {
     "data": {
      "text/plain": [
       "2.2231100852976673"
      ]
     },
     "execution_count": 27,
     "metadata": {},
     "output_type": "execute_result"
    }
   ],
   "source": [
    "rmse = np.sqrt((sum(l3)/len(l3)))\n",
    "rmse"
   ]
  },
  {
   "cell_type": "markdown",
   "metadata": {},
   "source": [
    "### Real dataset example"
   ]
  },
  {
   "cell_type": "code",
   "execution_count": 28,
   "metadata": {},
   "outputs": [
    {
     "name": "stdout",
     "output_type": "stream",
     "text": [
      "Using default train-test split (used in DeepSurv paper).\n"
     ]
    },
    {
     "name": "stderr",
     "output_type": "stream",
     "text": [
      "train loss: 2.60e+00 | val loss: 2.41e+00: 100%|██████████████████| 100/100 [00:17<00:00,  5.69it/s]\n"
     ]
    },
    {
     "name": "stdout",
     "output_type": "stream",
     "text": [
      "\n",
      "CoxKAN C-Index:  0.679797402909703\n"
     ]
    },
    {
     "data": {
      "text/latex": [
       "$\\displaystyle \\begin{cases} 0.06 & \\text{for}\\: meno = 0 \\\\0.22 & \\text{for}\\: meno = 1.0 \\\\\\text{NaN} & \\text{otherwise} \\end{cases} + \\begin{cases} 0.36 & \\text{for}\\: hormon = 0 \\\\0.02 & \\text{for}\\: hormon = 1.0 \\\\\\text{NaN} & \\text{otherwise} \\end{cases} + \\begin{cases} -0.16 & \\text{for}\\: size = 0 \\\\0.09 & \\text{for}\\: size = 1.0 \\\\0.36 & \\text{for}\\: size = 2.0 \\\\\\text{NaN} & \\text{otherwise} \\end{cases} + 0.759 - 1.16 e^{- 0.03 \\left(- nodes - 0.59\\right)^{2}} - 0.31 e^{- 5.69 \\left(1 - 0.02 age\\right)^{2}}$"
      ],
      "text/plain": [
       "Piecewise((0.06, Eq(meno, 0)), (0.22, Eq(meno, 1.0)), (nan, True)) + Piecewise((0.36, Eq(hormon, 0)), (0.02, Eq(hormon, 1.0)), (nan, True)) + Piecewise((-0.16, Eq(size, 0)), (0.09, Eq(size, 1.0)), (0.36, Eq(size, 2.0)), (nan, True)) + 0.759 - 1.16*exp(-0.03*(-nodes - 0.59)**2) - 0.31*exp(-5.69*(1 - 0.02*age)**2)"
      ]
     },
     "metadata": {},
     "output_type": "display_data"
    },
    {
     "data": {
      "image/png": "[encoded data removed]",
      "text/plain": [
       "<Figure size 500x200 with 8 Axes>"
      ]
     },
     "metadata": {},
     "output_type": "display_data"
    }
   ],
   "source": [
    "from coxkan.datasets import gbsg\n",
    "\n",
    "# load dataset\n",
    "df_train, df_test = gbsg.load(split=True)\n",
    "name, duration_col, event_col, covariates = gbsg.metadata()\n",
    "\n",
    "# init CoxKAN\n",
    "ckan = CoxKAN(width=[len(covariates), 1], seed=42)\n",
    "\n",
    "# pre-process and register data\n",
    "df_train, df_test = ckan.process_data(df_train, df_test, duration_col, event_col, normalization='standard')\n",
    "\n",
    "# train CoxKAN\n",
    "_ = ckan.train(\n",
    "    df_train, \n",
    "    df_test, \n",
    "    duration_col=duration_col, \n",
    "    event_col=event_col,\n",
    "    opt='Adam',\n",
    "    lr=0.01,\n",
    "    steps=100)\n",
    "\n",
    "print(\"\\nCoxKAN C-Index: \", ckan.cindex(df_test))\n",
    "\n",
    "# Auto symbolic fitting\n",
    "fit_success = ckan.auto_symbolic(verbose=False)\n",
    "display(ckan.symbolic_formula(floating_digit=2)[0][0])\n",
    "\n",
    "# Plot coxkan\n",
    "fig = ckan.plot(beta=20)"
   ]
  }
 ],
 "metadata": {
  "kernelspec": {
   "display_name": "Python 3 (ipykernel)",
   "language": "python",
   "name": "python3"
  },
  "language_info": {
   "codemirror_mode": {
    "name": "ipython",
    "version": 3
   },
   "file_extension": ".py",
   "mimetype": "text/x-python",
   "name": "python",
   "nbconvert_exporter": "python",
   "pygments_lexer": "ipython3",
   "version": "3.10.16"
  }
 },
 "nbformat": 4,
 "nbformat_minor": 4
}
